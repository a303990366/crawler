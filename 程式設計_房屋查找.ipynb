{
 "cells": [
  {
   "cell_type": "code",
   "execution_count": 1,
   "metadata": {},
   "outputs": [
    {
     "name": "stdout",
     "output_type": "stream",
     "text": [
      "Collecting selenium\n",
      "  Using cached selenium-3.141.0-py2.py3-none-any.whl (904 kB)\n",
      "Requirement already satisfied: urllib3 in c:\\users\\x5748\\anaconda3\\lib\\site-packages (from selenium) (1.25.8)\n",
      "Installing collected packages: selenium\n",
      "Successfully installed selenium-3.141.0\n"
     ]
    }
   ],
   "source": [
    "!pip install selenium"
   ]
  },
  {
   "cell_type": "code",
   "execution_count": 2,
   "metadata": {},
   "outputs": [],
   "source": [
    "import requests\n",
    "from bs4 import BeautifulSoup\n",
    "import re\n",
    "import pandas as pd\n",
    "import selenium\n",
    "from selenium import webdriver\n",
    "import time\n",
    "import math\n",
    "import bokeh\n",
    "import matplotlib.pyplot as plt"
   ]
  },
  {
   "cell_type": "code",
   "execution_count": 3,
   "metadata": {},
   "outputs": [],
   "source": [
    "columns=['刊登者','房型','標題','價格','地址','瀏覽數','收藏數','桌子', '椅子', '衣櫃', '床', '冰箱', '冷氣', '洗衣機', '網路', '沙發', '熱水器', '天然瓦斯', '電視',\n",
    " '第四台','網址']"
   ]
  },
  {
   "cell_type": "code",
   "execution_count": null,
   "metadata": {},
   "outputs": [],
   "source": [
    "def get_data(urls):\n",
    "    data=[]\n",
    "    for url in urls:\n",
    "        try:\n",
    "            resp=requests.get(url)\n",
    "            soup=BeautifulSoup(resp.text,'lxml')\n",
    "            temp=[]\n",
    "\n",
    "            user_id=soup.find('input',id=\"hid_user_id\")['value']\n",
    "            house_type=soup.find('div',id=\"propNav\").find_all('a')[4].text\n",
    "            title=soup.find('title').text\n",
    "            price=int(soup.find('div',class_=\"price clearfix\").i.text.split(' ')[0].replace(',',''))\n",
    "            view_count=int(soup.find('div',class_=\"pageView clearfix\").find('b').text)\n",
    "            address=soup.find('span',class_=\"addr\").text\n",
    "            collect_num=int(re.search(r'\\d+',soup.find('li',class_=\"collect\").text).group())\n",
    "            temp.append(user_id)\n",
    "            temp.append(house_type)\n",
    "            temp.append(title)\n",
    "            temp.append(price)\n",
    "            temp.append(address)\n",
    "            temp.append(view_count)\n",
    "            temp.append(collect_num)\n",
    "\n",
    "\n",
    "            #房東提供\n",
    "            try:\n",
    "                itemInHouse=soup.find('ul',class_=\"facility clearfix\").find_all('li')\n",
    "                #haveItem=[]\n",
    "                for i in itemInHouse:\n",
    "                    if 'no' not in i.span['class']:\n",
    "                        temp.append(1)\n",
    "                    else:\n",
    "                        temp.append(0)\n",
    "            except:\n",
    "                for i in range(13):\n",
    "                    temp.append(None)\n",
    "            temp.append(resp.url)\n",
    "            data.append(temp)\n",
    "        except:\n",
    "            pass\n",
    "    return data"
   ]
  },
  {
   "cell_type": "code",
   "execution_count": null,
   "metadata": {},
   "outputs": [],
   "source": [
    "country_name='高雄'\n",
    "town_name=['三民','小港','大社']\n",
    "#最多五個鄉鎮"
   ]
  },
  {
   "cell_type": "code",
   "execution_count": null,
   "metadata": {},
   "outputs": [],
   "source": [
    "options = webdriver.ChromeOptions()\n",
    "prefs = {\n",
    "    'profile.default_content_setting_values' :\n",
    "        {\n",
    "        'notifications' : 2\n",
    "         }\n",
    "}\n",
    "urls=[]\n",
    "options.add_experimental_option('prefs',prefs)\n",
    "driver = webdriver.Chrome(options=options)\n",
    "driver.get('https://rent.591.com.tw/?kind=0&region=1')\n",
    "\n",
    "for country in driver.find_element_by_class_name('area-box-body').find_elements_by_tag_name('dd'):\n",
    "    if country_name in country.text:\n",
    "        country.click()\n",
    "        break\n",
    "time.sleep(2)\n",
    "driver.find_element_by_id('search-location').find_elements_by_tag_name('span')[1].click()\n",
    "for i in driver.find_element_by_id('optionBox').find_elements_by_tag_name('label'):\n",
    "    for j in town_name:\n",
    "        if j in i.text:\n",
    "            i.click()"
   ]
  },
  {
   "cell_type": "code",
   "execution_count": null,
   "metadata": {},
   "outputs": [],
   "source": [
    "options = webdriver.ChromeOptions()\n",
    "prefs = {\n",
    "    'profile.default_content_setting_values' :\n",
    "        {\n",
    "        'notifications' : 2\n",
    "         }\n",
    "}\n",
    "urls=[]\n",
    "options.add_experimental_option('prefs',prefs)\n",
    "driver = webdriver.Chrome(options=options)\n",
    "driver.get('https://rent.591.com.tw/?kind=0&region=1')\n",
    "\n",
    "for country in driver.find_element_by_class_name('area-box-body').find_elements_by_tag_name('dd'):\n",
    "    if country_name in country.text:\n",
    "        country.click()\n",
    "        break\n",
    "time.sleep(2)\n",
    "driver.find_element_by_id('search-location').find_elements_by_tag_name('span')[1].click()\n",
    "for i in driver.find_element_by_id('optionBox').find_elements_by_tag_name('label'):\n",
    "    for j in town_name:\n",
    "        if j in i.text:\n",
    "            i.click()\n",
    "time.sleep(3)\n",
    "pageNum=driver.find_element_by_xpath('//*[@id=\"container\"]/section[5]/div/div[1]/div[3]/div[1]/i').text\n",
    "if ',' in pageNum:\n",
    "    pageNum=int(pageNum.replace(',',''))\n",
    "page=math.ceil(int(pageNum)/30)\n",
    "try:\n",
    "    driver.find_element_by_class_name('area-box-close').click()\n",
    "except:\n",
    "    pass\n",
    "\n",
    "for i in range(page-1):\n",
    "    res=driver.page_source\n",
    "    soup=BeautifulSoup(res,'lxml')\n",
    "    for i in soup.find_all('h3'):\n",
    "        urls.append('https:'+i.find('a')['href'].strip())\n",
    "    try:\n",
    "        time.sleep(1)\n",
    "        driver.find_element_by_link_text('下一頁').click()\n",
    "    except:\n",
    "        print('no page can crawl')\n",
    "driver.close()\n",
    "print('正在抓取資料，共%d頁' % page)\n",
    "data=get_data(urls)\n",
    "print('抓取完成')"
   ]
  },
  {
   "cell_type": "code",
   "execution_count": null,
   "metadata": {},
   "outputs": [],
   "source": [
    "table=pd.DataFrame(data=data,columns=columns)\n",
    "table.shape"
   ]
  },
  {
   "cell_type": "code",
   "execution_count": null,
   "metadata": {},
   "outputs": [],
   "source": [
    "#模組1:比較不同房型的價格區間\n",
    "#table.boxplot(column='價格',by='房型')\n",
    "def price_range(table,town=None):\n",
    "    if town!= None:\n",
    "        table=table[table['地址'].str.contains(town)]\n",
    "    plt.subplots_adjust(wspace =10, hspace =0)\n",
    "    plt.figure(figsize=(20,5))\n",
    "    plt.subplot(1,4,1)\n",
    "    #plt.title('分租套房')\n",
    "    plt.boxplot(x=table['價格'][table['房型']=='分租套房'].to_list())\n",
    "    plt.subplot(1,4,2)\n",
    "    #plt.title('獨立套房')\n",
    "    plt.boxplot(table['價格'][table['房型']=='獨立套房'].to_list())\n",
    "    plt.subplot(1,4,3)\n",
    "    #plt.title('雅房')\n",
    "    plt.boxplot(table['價格'][table['房型']=='雅房'].to_list())\n",
    "    plt.subplot(1,4,4)\n",
    "    #plt.title('整層住家')\n",
    "    plt.boxplot(table['價格'][table['房型']=='整層住家'].to_list())\n",
    "    #不同房型的數量\n",
    "price_range(table,town=town_name[1])"
   ]
  },
  {
   "cell_type": "code",
   "execution_count": null,
   "metadata": {},
   "outputs": [],
   "source": [
    "#模組2\n",
    "item=['桌子', '椅子', '衣櫃', '床', '冰箱', '冷氣', '洗衣機', '網路', '沙發', '熱水器', '天然瓦斯', '電視','第四台']\n",
    "table=table.dropna()\n",
    "base=len(item)\n",
    "table['設備完善率']=table.loc[:,item].sum(1)/base\n",
    "#plt.boxplot(table['設備完善率'])\n",
    "plt.hist(table['設備完善率'],edgecolor='black')"
   ]
  },
  {
   "cell_type": "code",
   "execution_count": null,
   "metadata": {},
   "outputs": [],
   "source": [
    "#模組3:熱門物件\n",
    "from bokeh.plotting import figure,output_file,show\n",
    "from bokeh.models import CategoricalColorMapper\n",
    "\n",
    "map=CategoricalColorMapper(factors=['分租套房','獨立套房','雅房','整層住家'],palette=['red','orange','blue','green'])\n",
    "p=figure(title='不同物件的瀏覽數與收藏數')\n",
    "p.circle(x='收藏數',y='瀏覽數',source=table,size=10,color={'field':'房型','transform':map})\n",
    "show(p)"
   ]
  },
  {
   "cell_type": "code",
   "execution_count": null,
   "metadata": {},
   "outputs": [],
   "source": [
    "#模組4:搭配前面的所有模組，選出具備理想條件的刊登者的所有物件\n",
    "equiment=0.8\n",
    "area=town_name[0]#'士林區'\n",
    "price_limit=[9000,12000]\n",
    "house_type='套房'\n",
    "table4=table[(table['設備完善率']>=equiment)&(table['地址'].str.contains(area))&(table['價格']>=price_limit[0])&(table['價格']<=price_limit[1])&(table['房型'].str.contains(house_type))]\n",
    "select_user=list(set(table4['刊登者']))\n",
    "table5=table[table['刊登者'].isin(select_user)]\n",
    "print('共有 %d 筆符合的資料' % table5.shape[0])\n",
    "table5"
   ]
  },
  {
   "cell_type": "code",
   "execution_count": null,
   "metadata": {},
   "outputs": [],
   "source": [
    "table4"
   ]
  },
  {
   "cell_type": "code",
   "execution_count": null,
   "metadata": {},
   "outputs": [],
   "source": []
  }
 ],
 "metadata": {
  "kernelspec": {
   "display_name": "Python 3",
   "language": "python",
   "name": "python3"
  },
  "language_info": {
   "codemirror_mode": {
    "name": "ipython",
    "version": 3
   },
   "file_extension": ".py",
   "mimetype": "text/x-python",
   "name": "python",
   "nbconvert_exporter": "python",
   "pygments_lexer": "ipython3",
   "version": "3.7.6"
  }
 },
 "nbformat": 4,
 "nbformat_minor": 2
}
