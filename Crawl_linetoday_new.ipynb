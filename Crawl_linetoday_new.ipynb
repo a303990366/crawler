{
 "cells": [
  {
   "cell_type": "code",
   "execution_count": null,
   "metadata": {},
   "outputs": [],
   "source": [
    "import requests\n",
    "from bs4 import BeautifulSoup\n",
    "import pandas as pd\n",
    "headers = {'user-agent': 'Mozilla/5.0 (Macintosh Intel Mac OS X 10_13_4) AppleWebKit/537.36 (KHTML, like Gecko) Chrome/66.0.3359.181 Safari/537.36'}"
   ]
  },
  {
   "cell_type": "code",
   "execution_count": null,
   "metadata": {},
   "outputs": [],
   "source": [
    "def find_text(items):\n",
    "    data_text=[]\n",
    "    texts=items[2].find(\"article\",class_=\"article-content news-content\")\n",
    "    texts=texts.find_all(\"p\")\n",
    "    for i in range(len(texts)):\n",
    "        data_text.append(texts[i].text.replace(u'\\n',u'').replace(u'\\xa0',u'').replace(u'\\u3000',u'').strip())\n",
    "    return str(data_text).replace('[','').replace(']','').replace(\"','\",'').replace(\"'\",'')\n",
    "    \n",
    "def find_reporter(items):\n",
    "    items=items[2].find(\"dd\",class_=\"publisher\")\n",
    "    reporter=items.text.strip()\n",
    "    return reporter\n",
    "def find_report_time(items):\n",
    "    time=items[2].find(\"dd\",class_=\"date\").text.replace('年','-').replace('月','-').split('日')[0].replace('日','-')\n",
    "    if '發布時間' in time:\n",
    "        time=time.split(\" \")[1]\n",
    "    return time"
   ]
  },
  {
   "cell_type": "code",
   "execution_count": null,
   "metadata": {},
   "outputs": [],
   "source": [
    "data_url=[]\n",
    "data_title=[]\n",
    "keywords=['颱風','天氣','歉收']#補上\n",
    "search_type=['REL','LATEST']"
   ]
  },
  {
   "cell_type": "code",
   "execution_count": null,
   "metadata": {
    "scrolled": true
   },
   "outputs": [],
   "source": [
    "for k in keywords:\n",
    "    for typ in search_type:\n",
    "        url_origin='https://hub.line.me/search/'+k+'?module=news&sort='+typ+'&pageIndex='\n",
    "        for i in range(1,2):#改至135\n",
    "            try:\n",
    "                url=url_origin+str(i)\n",
    "                print(url)\n",
    "                resp=requests.get(url,headers=headers)\n",
    "                soup=BeautifulSoup(resp.text,'html5lib')\n",
    "                items=soup.find('div',class_=\"searchToday-itemsContainer\")\n",
    "                items_title=items.find_all('h4')\n",
    "                for i in items_title:\n",
    "                    data_title.append(i.text.strip().replace(u'\\u3000',u' '))\n",
    "                items_url=items.find_all('a')\n",
    "                for i in items_url:\n",
    "                    data_url.append(i['href'])\n",
    "            except:\n",
    "                print(\"No items to crawl\")\n",
    "                break\n",
    "                print(\"---------------\")\n"
   ]
  },
  {
   "cell_type": "code",
   "execution_count": null,
   "metadata": {},
   "outputs": [],
   "source": [
    "if len(data_title)==len(data_url):\n",
    "    data=pd.DataFrame()\n",
    "    data['title']=data_title\n",
    "    data['url']=data_url\n",
    "    data['website']='Line Today'\n",
    "    print(\"make dataframe\")\n",
    "data.drop_duplicates(subset='url', keep='first', inplace=True)\n",
    "data.reset_index(drop=True,inplace=True)"
   ]
  },
  {
   "cell_type": "code",
   "execution_count": null,
   "metadata": {},
   "outputs": [],
   "source": [
    "data_reporter=[]\n",
    "data_text=[]\n",
    "data_time=[]\n",
    "\n",
    "\n",
    "count=0\n",
    "for i in data['url'][0:5]:\n",
    "    try:\n",
    "        resp=requests.get(i,headers=headers)\n",
    "        #time.sleep(1)\n",
    "        soup=BeautifulSoup(resp.text,\"html5lib\")\n",
    "        items=soup.find_all(\"div\",class_=\"inner\")\n",
    "        try:\n",
    "            x=find_reporter(items)\n",
    "            data_reporter.append(x)\n",
    "            print(x)\n",
    "        except:\n",
    "            data_reporter.append(\"None\")\n",
    "        try:\n",
    "            y=find_text(items)\n",
    "            data_text.append(y)\n",
    "            print(y)\n",
    "        except:\n",
    "            data_text.append(\"None\")\n",
    "        try:\n",
    "            z=find_report_time(items)\n",
    "            data_time.append(z)\n",
    "            print(z)\n",
    "        except:\n",
    "        \n",
    "            data_time.append(\"None\")\n",
    "    except:\n",
    "        print(\"fail,全部為None\")\n",
    "        data_text.append(\"None\")\n",
    "        data_time.append(\"None\")\n",
    "        data_reporter.append(\"None\")\n",
    "    count+=1\n",
    "    print(\"目前執行次數 %d\" % count)\n",
    "    print(\"目前共有幾筆文章資料 %d\" % len(data_text))\n",
    "    print(\"目前共有幾筆時間資料 %d\" % len(data_time))"
   ]
  },
  {
   "cell_type": "code",
   "execution_count": null,
   "metadata": {},
   "outputs": [],
   "source": [
    "data['reporter']=data_reporter\n",
    "data['time']=data_time\n",
    "data['text']=data_text"
   ]
  },
  {
   "cell_type": "code",
   "execution_count": null,
   "metadata": {},
   "outputs": [],
   "source": [
    "text='2020年1月12日'\n",
    "text.replace('年','-').replace('月','-').replace('日','')"
   ]
  },
  {
   "cell_type": "code",
   "execution_count": null,
   "metadata": {},
   "outputs": [],
   "source": []
  }
 ],
 "metadata": {
  "kernelspec": {
   "display_name": "Python 3",
   "language": "python",
   "name": "python3"
  },
  "language_info": {
   "codemirror_mode": {
    "name": "ipython",
    "version": 3
   },
   "file_extension": ".py",
   "mimetype": "text/x-python",
   "name": "python",
   "nbconvert_exporter": "python",
   "pygments_lexer": "ipython3",
   "version": "3.7.3"
  }
 },
 "nbformat": 4,
 "nbformat_minor": 2
}
