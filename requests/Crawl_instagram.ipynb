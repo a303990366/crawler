{
 "cells": [
  {
   "cell_type": "code",
   "execution_count": null,
   "metadata": {},
   "outputs": [],
   "source": [
    "#註記:\n",
    "    #資料內容與資料標需要做確認\n",
    "    #不同帳號有不同的query_hash id(文章跟留言也不一樣)"
   ]
  },
  {
   "cell_type": "code",
   "execution_count": null,
   "metadata": {},
   "outputs": [],
   "source": [
    "# articles        | comments        | replies\n",
    "# -------------------------------------------------------               \n",
    "# title        N  | id           W  |\n",
    "# author_name  Y  | comment_id   Y  |\n",
    "# author_id    Y  | author_name  Y  |\n",
    "# context      Y  | context      Y  |\n",
    "# platform_id  N  | post_id      W  |\n",
    "# post_id      Y  | post_time    Y  |\n",
    "# post_time    Y  | platfrom_id  N  |\n",
    "# like_num     Y  | like_num     Y  |\n",
    "# share_num    N  |"
   ]
  },
  {
   "cell_type": "code",
   "execution_count": null,
   "metadata": {},
   "outputs": [],
   "source": [
    "#之後用於scrapy pipeline.py\n",
    "def change_time(timeStamp):\n",
    "    timeArray = time.localtime(timeStamp)\n",
    "    otherStyleTime = time.strftime(\"%Y-%m-%d %H:%M:%S\", timeArray)\n",
    "    return otherStyleTime"
   ]
  },
  {
   "cell_type": "code",
   "execution_count": null,
   "metadata": {},
   "outputs": [],
   "source": [
    "import requests\n",
    "from bs4 import BeautifulSoup\n",
    "import json\n",
    "import pandas as pd\n",
    "import re\n",
    "import time\n",
    "\n",
    "headers={'user-agent': 'Mozilla/5.0 (Windows NT 10.0; Win64; x64) AppleWebKit/537.36 (KHTML, like Gecko) Chrome/80.0.3987.122 Safari/537.36'}"
   ]
  },
  {
   "cell_type": "code",
   "execution_count": null,
   "metadata": {},
   "outputs": [],
   "source": [
    "## 文章擷取\n",
    "    #動態載入文章時，出現的網址為https://www.instagram.com/graphql/query/?query_hash=hash值&variables=向網站要求的參數\n",
    "    #此為json格式，最多要求50則\n",
    "    #迴圈設計:\n",
    "    #    因原始api的url不需要在variables內添加\"after\":end_cursor，所以新設計的url需要額外添加\n",
    "        #while True:\n",
    "        #    resp=requests.get(url)\n",
    "        #    text=json.loads(resp.text)\n",
    "            #解析出end_cursor\n",
    "            #解析所需要的欄位並添加進陣列\n",
    "        #    if end_cursor=='null':\n",
    "        #        break\n",
    "        #    url=url+after:end_cursor\n",
    "            \n",
    "    \n",
    "## 留言擷取\n",
    "    \n",
    "    #動態載入留言時，出現的網址為https://www.instagram.com/graphql/query/?query_hash=hash值&variables=向網站要求的參數\n",
    "    #一開始請求時，可以不用加上variable 中的after(也就是end_cursor)\n",
    "    #?????????或許文章也可以不用?，如果可以省掉正則表達式找取end_cursor的動作了\n",
    "    \n",
    "## 留言回覆擷取"
   ]
  },
  {
   "cell_type": "code",
   "execution_count": null,
   "metadata": {},
   "outputs": [],
   "source": []
  },
  {
   "cell_type": "code",
   "execution_count": null,
   "metadata": {},
   "outputs": [],
   "source": [
    "data_conext=[]\n",
    "data_time=[]\n",
    "data_like=[]\n",
    "data_post_id=[]"
   ]
  },
  {
   "cell_type": "code",
   "execution_count": null,
   "metadata": {},
   "outputs": [],
   "source": [
    "url='https://www.instagram.com/graphql/query/?query_hash=e769aa130647d2354c40ea6a439bfc08&variables={\"id\":\"5513828026\",\"first\":50}'\n",
    "while True:\n",
    "    #all items is 50\n",
    "    resp=requests.get(url,headers=headers)\n",
    "    text=json.loads(resp.text)\n",
    "    end_cursor=text['data']['user']['edge_owner_to_timeline_media']['page_info']['end_cursor']#新的end_cursor\n",
    "    for i in range(0,50):\n",
    "        try:\n",
    "            context=text['data']['user']['edge_owner_to_timeline_media']['edges'][i]['node']['edge_media_to_caption']['edges'][0]['node']['text']\n",
    "            post_time=change_time(int(text['data']['user']['edge_owner_to_timeline_media']['edges'][i]['node']['taken_at_timestamp']))\n",
    "            like_num=text['data']['user']['edge_owner_to_timeline_media']['edges'][i]['node']['edge_media_preview_like']['count']\n",
    "            post_id=text['data']['user']['edge_owner_to_timeline_media']['edges'][i]['node']['id']\n",
    "            print(post_id)\n",
    "            print(post_time)\n",
    "            print(context)\n",
    "            print(\"按讚數:\"+str(like_num))\n",
    "            data_post_id.append(post_id)\n",
    "            data_time.append(post_time)\n",
    "            data_conext.append(context)\n",
    "            data_like.append(like_num)\n",
    "            print(\"-----------------\")\n",
    "        except:\n",
    "            print(\"no item can crawl\")\n",
    "    \n",
    "    if type(end_cursor)!=str:\n",
    "        break\n",
    "    time.sleep(10)\n",
    "    url='https://www.instagram.com/graphql/query/?query_hash=e769aa130647d2354c40ea6a439bfc08&variables={\"id\":\"5513828026\",\"first\":50,\"after\":\"'+end_cursor+'\"}'"
   ]
  },
  {
   "cell_type": "code",
   "execution_count": null,
   "metadata": {},
   "outputs": [],
   "source": [
    "ddd=pd.DataFrame()\n",
    "ddd['context']=data_conext\n",
    "ddd['post_time']=data_time\n",
    "ddd['post_id']=data_post_id\n",
    "ddd['like_num']=data_like"
   ]
  },
  {
   "cell_type": "code",
   "execution_count": null,
   "metadata": {},
   "outputs": [],
   "source": []
  },
  {
   "cell_type": "code",
   "execution_count": null,
   "metadata": {},
   "outputs": [],
   "source": [
    "#----------目前遇到的問題---------------\n",
    "#2.前12篇的留言api要求的參數也不一樣\n",
    "#3.關於文章爬取的迴圈需要改善，會遇到有requests但沒有解析至陣列中\n",
    "#4.文章與留言的關聯為shortcode並非我所想的post_id 所以需要跟老師討論一下式選擇其中一個還是兩個都用"
   ]
  },
  {
   "cell_type": "code",
   "execution_count": null,
   "metadata": {},
   "outputs": [],
   "source": [
    "article_code=text['data']['user']['edge_owner_to_timeline_media']['edges'][0]['node']['shortcode']"
   ]
  },
  {
   "cell_type": "code",
   "execution_count": null,
   "metadata": {},
   "outputs": [],
   "source": []
  },
  {
   "cell_type": "code",
   "execution_count": null,
   "metadata": {},
   "outputs": [],
   "source": [
    "#---------------------以下為留言表格-------------------------"
   ]
  },
  {
   "cell_type": "code",
   "execution_count": null,
   "metadata": {},
   "outputs": [],
   "source": [
    "comment_data_comment_id=[]\n",
    "comment_data_author_name=[]\n",
    "comment_data_context=[]\n",
    "comment_data_post_id=[]\n",
    "comment_data_post_time=[]\n",
    "comment_data_like_num=[]"
   ]
  },
  {
   "cell_type": "code",
   "execution_count": null,
   "metadata": {},
   "outputs": [],
   "source": [
    "url='https://www.instagram.com/graphql/query/?query_hash=bc3296d1ce80a24b1b6e40b1e72903f5&variables={%22shortcode%22:%22B9gmft5n3bT%22,%22first%22:50}'\n",
    "while True:\n",
    "    resp=requests.get(url,headers=headers)\n",
    "    text=json.loads(resp.text)\n",
    "    comment_end_cursor=text['data']['shortcode_media']['edge_media_to_parent_comment']['page_info']['end_cursor']\n",
    "    i=0\n",
    "    while True:\n",
    "        try:\n",
    "            comment_id=text['data']['shortcode_media']['edge_media_to_parent_comment']['edges'][i]['node']['id']\n",
    "            context=text['data']['shortcode_media']['edge_media_to_parent_comment']['edges'][i]['node']['text']\n",
    "            comment_time=change_time(text['data']['shortcode_media']['edge_media_to_parent_comment']['edges'][i]['node']['created_at'])\n",
    "            author_name=text['data']['shortcode_media']['edge_media_to_parent_comment']['edges'][i]['node']['owner']['username']\n",
    "            author_id=text['data']['shortcode_media']['edge_media_to_parent_comment']['edges'][i]['node']['owner']['id']\n",
    "            like_num=text['data']['shortcode_media']['edge_media_to_parent_comment']['edges'][i]['node']['edge_liked_by']['count']\n",
    "            comment_data_comment_id.append(comment_id)\n",
    "            comment_data_context.append(context)\n",
    "            comment_data_post_time.append(comment_time)\n",
    "            comment_data_author_name.append(author_name)\n",
    "            comment_data_like_num.append(like_num)\n",
    "            i+=1\n",
    "            print(comment_id)\n",
    "            print(comment_time)\n",
    "            print(context)\n",
    "            print(author_name)\n",
    "            print(author_id)\n",
    "            print(like_num)\n",
    "            print('-------------------------')\n",
    "        except:\n",
    "            break\n",
    "    if type(comment_end_cursor)!=str:\n",
    "        break\n",
    "    \n",
    "    time.sleep(3)\n",
    "    url='https://www.instagram.com/graphql/query/?query_hash=bc3296d1ce80a24b1b6e40b1e72903f5&variables={%22shortcode%22:%22B9gmft5n3bT%22,%22first%22:50,\"after\":\"'+comment_end_cursor+'\"}'\n",
    "    "
   ]
  },
  {
   "cell_type": "code",
   "execution_count": null,
   "metadata": {},
   "outputs": [],
   "source": [
    "comments=pd.DataFrame()\n",
    "comments['comment_id']=comment_data_comment_id\n",
    "comments['comment_time']=comment_data_post_time\n",
    "comments['context']=comment_data_context"
   ]
  },
  {
   "cell_type": "code",
   "execution_count": null,
   "metadata": {},
   "outputs": [],
   "source": [
    "#---------------------以下為留言回覆表格-------------------------"
   ]
  },
  {
   "cell_type": "code",
   "execution_count": null,
   "metadata": {},
   "outputs": [],
   "source": [
    "#註記:留言回覆若沒大於10則，應該都是能在請求留言裡面的api找出來"
   ]
  }
 ],
 "metadata": {
  "kernelspec": {
   "display_name": "Python 3",
   "language": "python",
   "name": "python3"
  },
  "language_info": {
   "codemirror_mode": {
    "name": "ipython",
    "version": 3
   },
   "file_extension": ".py",
   "mimetype": "text/x-python",
   "name": "python",
   "nbconvert_exporter": "python",
   "pygments_lexer": "ipython3",
   "version": "3.7.3"
  }
 },
 "nbformat": 4,
 "nbformat_minor": 2
}
