{
 "cells": [
  {
   "cell_type": "code",
   "execution_count": null,
   "metadata": {},
   "outputs": [],
   "source": [
    "import requests\n",
    "from bs4 import BeautifulSoup\n",
    "import pandas as pd\n",
    "headers = {'user-agent': 'Mozilla/5.0 (Macintosh Intel Mac OS X 10_13_4) AppleWebKit/537.36 (KHTML, like Gecko) Chrome/66.0.3359.181 Safari/537.36'}"
   ]
  },
  {
   "cell_type": "code",
   "execution_count": null,
   "metadata": {},
   "outputs": [],
   "source": [
    "def find_reporter_ettoday(soup):\n",
    "    elements=soup.find('div',class_=\"story\").find_all('p')\n",
    "    for i in elements:\n",
    "        if '報導' in i.text:\n",
    "            reporter=i.text.split('／')[0].replace(\"記者\",'').strip()\n",
    "            break\n",
    "        if '圖文' in i.text:\n",
    "            reporter=i.text.split('／')[1].replace(\"記者\",'').strip()\n",
    "            break\n",
    "    return reporter\n",
    "def find_report_time_ettoday(soup):\n",
    "    return soup.find('time',class_=\"date\")['datetime'].split('T')[0]\n",
    "def find_text_ettoday(soup):\n",
    "    data_text=''\n",
    "    text=soup.find('div',class_=\"story\").find_all('p')[1:]\n",
    "    for i in text:\n",
    "        if '▲' not in i.text and '►' not in i.text:\n",
    "            if '／'  in i.text and '報導'  in i.text:\n",
    "                pass\n",
    "            else:\n",
    "                data_text+=i.text\n",
    "    return data_text"
   ]
  },
  {
   "cell_type": "code",
   "execution_count": null,
   "metadata": {},
   "outputs": [],
   "source": [
    "data_url=[]\n",
    "data_title=[]\n",
    "keywords=['颱風','天氣']#補上"
   ]
  },
  {
   "cell_type": "code",
   "execution_count": null,
   "metadata": {
    "scrolled": true
   },
   "outputs": [],
   "source": [
    "for k in keywords[0:1]:\n",
    "    count=1\n",
    "    url_origin='https://www.ettoday.net/news_search/doSearch.php?keywords='+k+'&kind=5&idx=1&page='\n",
    "    url=url_origin+str(count) #https://udn.com/search/result/2/keywords\n",
    "    if count==1:\n",
    "        resp=requests.get(url,headers=headers)\n",
    "        soup=BeautifulSoup(resp.text,'html5lib')\n",
    "        stop_page=int(soup.find('p',class_=\"info\").text.split(' | ')[1].replace('共','').replace('頁','').strip())\n",
    "    while count<=stop_page:\n",
    "    #for i in range(2):\n",
    "        try:\n",
    "            resp=requests.get(url,headers=headers)\n",
    "            soup=BeautifulSoup(resp.text,'html5lib')\n",
    "            items=soup.find_all('div',class_=\"archive clearfix\")\n",
    "            for item in items:\n",
    "                print(item.find('div',class_=\"box_2\").a.text)\n",
    "                print(item.find('div',class_=\"box_2\").a['href'])\n",
    "                data_title.append(item.find('div',class_=\"box_2\").a.text.replace(u'\\u3000',u''))\n",
    "                data_url.append(item.find('div',class_=\"box_2\").a['href'])\n",
    "            count+=1\n",
    "            url=url_origin+str(count)\n",
    "        except:\n",
    "            print(\"can't crawl\")\n",
    "            break"
   ]
  },
  {
   "cell_type": "code",
   "execution_count": null,
   "metadata": {},
   "outputs": [],
   "source": [
    "if len(data_title)==len(data_url):\n",
    "    data=pd.DataFrame()\n",
    "    data['title']=data_title\n",
    "    data['url']=data_url\n",
    "    data['website']='ETtoday'\n",
    "    print(\"make dataframe\")"
   ]
  },
  {
   "cell_type": "code",
   "execution_count": null,
   "metadata": {},
   "outputs": [],
   "source": [
    "data_reporter=[]\n",
    "data_text=[]\n",
    "data_time=[]\n",
    "\n",
    "\n",
    "count=0\n",
    "for i in data['url']:\n",
    "    try:\n",
    "        resp=requests.get(i,headers=headers)\n",
    "        resp.encoding='utf-8'\n",
    "        items=BeautifulSoup(resp.text,\"html5lib\")\n",
    "        #items=soup.find_all(\"div\",class_=\"inner\")\n",
    "        try:\n",
    "            x=find_reporter_ettoday(items)\n",
    "            data_reporter.append(x)\n",
    "            print(x)\n",
    "        except:\n",
    "            data_reporter.append(\"None\")\n",
    "        try:\n",
    "            y=find_text_ettoday(items)\n",
    "            data_text.append(y)\n",
    "            print(y)\n",
    "        except:\n",
    "            data_text.append(\"None\")\n",
    "        try:\n",
    "            z=find_report_time_ettoday(items)\n",
    "            data_time.append(z)\n",
    "            print(z)\n",
    "        except:\n",
    "        \n",
    "            data_time.append(\"None\")\n",
    "    except:\n",
    "        print(\"fail,全部為None\")\n",
    "        data_text.append(\"None\")\n",
    "        data_time.append(\"None\")\n",
    "        data_reporter.append(\"None\")\n",
    "    count+=1\n",
    "    print(\"目前執行次數 %d\" % count)\n",
    "    print(\"目前共有幾筆文章資料 %d\" % len(data_text))\n",
    "    print(\"目前共有幾筆時間資料 %d\" % len(data_time))"
   ]
  },
  {
   "cell_type": "code",
   "execution_count": null,
   "metadata": {},
   "outputs": [],
   "source": [
    "data['reporter']=data_reporter\n",
    "data['time']=data_time\n",
    "data['text']=data_text"
   ]
  },
  {
   "cell_type": "code",
   "execution_count": null,
   "metadata": {},
   "outputs": [],
   "source": [
    "data"
   ]
  },
  {
   "cell_type": "code",
   "execution_count": null,
   "metadata": {},
   "outputs": [],
   "source": []
  }
 ],
 "metadata": {
  "kernelspec": {
   "display_name": "Python 3",
   "language": "python",
   "name": "python3"
  },
  "language_info": {
   "codemirror_mode": {
    "name": "ipython",
    "version": 3
   },
   "file_extension": ".py",
   "mimetype": "text/x-python",
   "name": "python",
   "nbconvert_exporter": "python",
   "pygments_lexer": "ipython3",
   "version": "3.7.3"
  }
 },
 "nbformat": 4,
 "nbformat_minor": 2
}
