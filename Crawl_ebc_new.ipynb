{
 "cells": [
  {
   "cell_type": "code",
   "execution_count": null,
   "metadata": {},
   "outputs": [],
   "source": [
    "import requests\n",
    "from bs4 import BeautifulSoup\n",
    "import pandas as pd\n",
    "headers = {'user-agent': 'Mozilla/5.0 (Macintosh Intel Mac OS X 10_13_4) AppleWebKit/537.36 (KHTML, like Gecko) Chrome/66.0.3359.181 Safari/537.36'}"
   ]
  },
  {
   "cell_type": "code",
   "execution_count": null,
   "metadata": {},
   "outputs": [],
   "source": [
    "data_url=[]\n",
    "data_title=[]\n",
    "keywords=['颱風','天氣','歉收']#補上"
   ]
  },
  {
   "cell_type": "code",
   "execution_count": null,
   "metadata": {},
   "outputs": [],
   "source": [
    "def find_text_ebc(items):\n",
    "    data_text=[]\n",
    "    items_text=items.find('div',class_=\"raw-style\").find_all('p')\n",
    "    for i in items_text:\n",
    "        if '★' in i.text or '▼' in i.text or '圖／' in i.text or '' == i.text or '\\xa0'==i.text or '▲' in i.text:\n",
    "            continue\n",
    "        else:\n",
    "            if '●以上言論不代表東森' in i.text:\n",
    "                break\n",
    "            data_text.append(i.text.replace(u'\\n',u'').replace(u'\\xa0',u'').replace(u'\\u3000',u'').strip())\n",
    "    if []==data_text:\n",
    "        text=soup.find('div',class_=\"raw-style\").text.replace(u'\\n',u'').replace(u'\\xa0',u'')\n",
    "        if '【往下' in text:\n",
    "            text=text.split('【往下')[0]\n",
    "            data_text.append(text)\n",
    "    return str(data_text).replace('[','').replace(']','').replace(\"','\",'').replace(\"'\",'')\n",
    "    \n",
    "def find_reporter_ebc(items):\n",
    "    reporter=items.find('span',class_=\"small-gray-text\")\n",
    "    reporter=reporter.text.split()[-1]\n",
    "    if ':' in reporter:\n",
    "        reporter='None'\n",
    "    return reporter\n",
    "def find_report_time_ebc(items):\n",
    "    time=items.find('span',class_=\"small-gray-text\")\n",
    "    time=time.text.split()[0]\n",
    "    return time"
   ]
  },
  {
   "cell_type": "code",
   "execution_count": null,
   "metadata": {},
   "outputs": [],
   "source": [
    "for k in keywords:\n",
    "    url_origin='https://news.ebc.net.tw/Search/Result?type=keyword&value='+k+'&page='\n",
    "    for i in range(1,2):\n",
    "        try:\n",
    "            url=url_origin+str(i)\n",
    "            print(url)\n",
    "            resp=requests.get(url,headers=headers)\n",
    "            soup=BeautifulSoup(resp.text,'html5lib')\n",
    "            items=soup.find('div',class_=\"news-list-box\")\n",
    "            items_url=items.find_all('div',class_=\"style1 white-box\")\n",
    "            for i in items_url:\n",
    "                data_url.append('https://news.ebc.net.tw'+i.a['href'])\n",
    "                data_title.append(i.find(\"div\",class_=\"title\").text)\n",
    "        except:\n",
    "            print(\"No items to crawl\")\n",
    "            break\n",
    "            print(\"---------------\")\n",
    "\n"
   ]
  },
  {
   "cell_type": "code",
   "execution_count": null,
   "metadata": {},
   "outputs": [],
   "source": [
    "if len(data_title)==len(data_url):\n",
    "    data=pd.DataFrame()\n",
    "    data['title']=data_title\n",
    "    data['url']=data_url\n",
    "    data['website']='東森新聞'\n",
    "    print(\"make dataframe\")\n",
    "data.drop_duplicates(subset='url', keep='first', inplace=True)\n",
    "data.reset_index(drop=True,inplace=True)"
   ]
  },
  {
   "cell_type": "code",
   "execution_count": null,
   "metadata": {},
   "outputs": [],
   "source": [
    "data_reporter=[]\n",
    "data_text=[]\n",
    "data_time=[]\n",
    "\n",
    "\n",
    "count=0\n",
    "for i in data['url']:\n",
    "    try:\n",
    "        resp=requests.get(i,headers=headers)\n",
    "        #time.sleep(1)\n",
    "        items=BeautifulSoup(resp.text,\"html5lib\")\n",
    "        #items=soup.find_all(\"div\",class_=\"inner\")\n",
    "        try:\n",
    "            x=find_reporter_ebc(items)\n",
    "            data_reporter.append(x)\n",
    "            print(x)\n",
    "        except:\n",
    "            data_reporter.append(\"None\")\n",
    "        try:\n",
    "            y=find_text_ebc(items)\n",
    "            data_text.append(y)\n",
    "            print(y)\n",
    "        except:\n",
    "            data_text.append(\"None\")\n",
    "        try:\n",
    "            z=find_report_time_ebc(items)\n",
    "            data_time.append(z)\n",
    "            print(z)\n",
    "        except:\n",
    "        \n",
    "            data_time.append(\"None\")\n",
    "    except:\n",
    "        print(\"fail,全部為None\")\n",
    "        data_text.append(\"None\")\n",
    "        data_time.append(\"None\")\n",
    "        data_reporter.append(\"None\")\n",
    "    count+=1\n",
    "    print(\"目前執行次數 %d\" % count)\n",
    "    print(\"目前共有幾筆文章資料 %d\" % len(data_text))\n",
    "    print(\"目前共有幾筆時間資料 %d\" % len(data_time))"
   ]
  },
  {
   "cell_type": "code",
   "execution_count": null,
   "metadata": {},
   "outputs": [],
   "source": [
    "data['reporter']=data_reporter\n",
    "data['time']=data_time\n",
    "data['text']=data_text"
   ]
  },
  {
   "cell_type": "code",
   "execution_count": null,
   "metadata": {},
   "outputs": [],
   "source": []
  }
 ],
 "metadata": {
  "kernelspec": {
   "display_name": "Python 3",
   "language": "python",
   "name": "python3"
  },
  "language_info": {
   "codemirror_mode": {
    "name": "ipython",
    "version": 3
   },
   "file_extension": ".py",
   "mimetype": "text/x-python",
   "name": "python",
   "nbconvert_exporter": "python",
   "pygments_lexer": "ipython3",
   "version": "3.7.3"
  }
 },
 "nbformat": 4,
 "nbformat_minor": 2
}
